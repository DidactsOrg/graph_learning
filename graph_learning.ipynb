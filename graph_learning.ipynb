{
 "cells": [
  {
   "cell_type": "markdown",
   "metadata": {},
   "source": [
    "# Graph learning from data\n",
    "\n",
    "* Using a scipy.optimize.minimize routine to learn the graph structure using synthetic data, this is based on one of the methods discussed in arxiv:1601.02513\n",
    "* $ min \\ \\ \\ tr(X^{T}LX) +\\alpha ||L||_{F}$"
   ]
  },
  {
   "cell_type": "code",
   "execution_count": 1,
   "metadata": {},
   "outputs": [],
   "source": [
    "from minimizer import *"
   ]
  },
  {
   "cell_type": "markdown",
   "metadata": {},
   "source": [
    "* Specify number of sensors and alpha (1t = 127 sensors)"
   ]
  },
  {
   "cell_type": "code",
   "execution_count": 2,
   "metadata": {},
   "outputs": [],
   "source": [
    "n_sensors = 127"
   ]
  },
  {
   "cell_type": "markdown",
   "metadata": {},
   "source": [
    "* Load synthetic data for 1T detector config"
   ]
  },
  {
   "cell_type": "code",
   "execution_count": 3,
   "metadata": {},
   "outputs": [],
   "source": [
    "with open(\"optical_1t.pickle\", \"rb\") as f:\n",
    "    signal = pickle.load(f)"
   ]
  },
  {
   "cell_type": "markdown",
   "metadata": {},
   "source": [
    "* Using trace's cyclic property we can calculate the product $X^{T}X$, where $S=X^{T}X$ "
   ]
  },
  {
   "cell_type": "code",
   "execution_count": 4,
   "metadata": {},
   "outputs": [],
   "source": [
    "S = (1.0/len(signal))*np.matmul(np.asarray(signal).T,np.asarray(signal))"
   ]
  },
  {
   "cell_type": "markdown",
   "metadata": {},
   "source": [
    "* Use the identity matrix times 2 a $L_{0}$ (first guess)"
   ]
  },
  {
   "cell_type": "code",
   "execution_count": 5,
   "metadata": {},
   "outputs": [],
   "source": [
    "L0 = np.identity(n_sensors)*2"
   ]
  },
  {
   "cell_type": "code",
   "execution_count": 6,
   "metadata": {},
   "outputs": [
    {
     "data": {
      "text/plain": [
       "array([[2., 0., 0., ..., 0., 0., 0.],\n",
       "       [0., 2., 0., ..., 0., 0., 0.],\n",
       "       [0., 0., 2., ..., 0., 0., 0.],\n",
       "       ...,\n",
       "       [0., 0., 0., ..., 2., 0., 0.],\n",
       "       [0., 0., 0., ..., 0., 2., 0.],\n",
       "       [0., 0., 0., ..., 0., 0., 2.]])"
      ]
     },
     "execution_count": 6,
     "metadata": {},
     "output_type": "execute_result"
    }
   ],
   "source": [
    "L0"
   ]
  },
  {
   "cell_type": "markdown",
   "metadata": {},
   "source": [
    "* Call minimization routine\n",
    "* Input parameters:\n",
    "    * number of sensors\n",
    "    * alpha (a.k.a inverse of graph density)\n",
    "    * S = $X^{T}X$"
   ]
  },
  {
   "cell_type": "code",
   "execution_count": 7,
   "metadata": {},
   "outputs": [],
   "source": [
    "myMinimizer = Minimizer(n_sensors=n_sensors, alpha=0.33, S=S)"
   ]
  },
  {
   "cell_type": "code",
   "execution_count": 8,
   "metadata": {},
   "outputs": [
    {
     "name": "stdout",
     "output_type": "stream",
     "text": [
      "| niter |f evals|CG iter|  obj func   |tr radius |   opt    |  c viol  | penalty  |barrier param|CG stop|\n",
      "|-------|-------|-------|-------------|----------|----------|----------|----------|-------------|-------|\n",
      "|   1   | 16130 |   0   | +1.8250e+05 | 1.00e+00 | 8.08e+02 | 0.00e+00 | 1.00e+00 |  1.00e-01   |   0   |\n",
      "|   2   | 32260 |   1   | +1.6838e+05 | 7.00e+00 | 8.03e+02 | 0.00e+00 | 1.00e+00 |  1.00e-01   |   2   |\n",
      "|   3   | 48390 |   2   | +5.3455e+04 | 4.90e+01 | 7.39e+02 | 0.00e+00 | 1.00e+00 |  1.00e-01   |   2   |\n",
      "|   4   | 64520 |   4   | +2.6740e+02 | 4.90e+01 | 2.12e-01 | 0.00e+00 | 1.00e+00 |  1.00e-01   |   4   |\n",
      "|   5   | 80650 |   5   | +1.3364e+00 | 4.90e+01 | 4.06e-04 | 0.00e+00 | 1.00e+00 |  1.00e-01   |   4   |\n",
      "|   6   | 96780 |   6   | +1.0000e-01 | 4.90e+01 | 4.10e-04 | 0.00e+00 | 1.00e+00 |  1.00e-01   |   4   |\n",
      "|   7   | 96780 |   6   | +1.0000e-01 | 2.45e+02 | 8.20e-05 | 0.00e+00 | 1.00e+00 |  2.00e-02   |   0   |\n",
      "|   8   |112910 |   7   | +2.0187e-02 | 2.45e+02 | 8.19e-05 | 0.00e+00 | 1.00e+00 |  2.00e-02   |   4   |\n",
      "|   9   |112910 |   7   | +2.0187e-02 | 1.22e+03 | 1.64e-05 | 0.00e+00 | 1.00e+00 |  4.00e-03   |   0   |\n",
      "|  10   |129040 |  10   | +4.0010e-03 | 1.22e+03 | 1.64e-05 | 0.00e+00 | 1.00e+00 |  4.00e-03   |   4   |\n",
      "|  11   |129040 |  10   | +4.0010e-03 | 6.12e+03 | 3.28e-06 | 0.00e+00 | 1.00e+00 |  8.00e-04   |   0   |\n",
      "|  12   |145170 |  14   | +8.0003e-04 | 6.12e+03 | 3.28e-06 | 0.00e+00 | 1.00e+00 |  8.00e-04   |   4   |\n",
      "|  13   |145170 |  14   | +8.0003e-04 | 3.06e+04 | 6.56e-07 | 0.00e+00 | 1.00e+00 |  1.60e-04   |   0   |\n",
      "|  14   |161300 |  19   | +1.6015e-04 | 3.06e+04 | 6.55e-07 | 0.00e+00 | 1.00e+00 |  1.60e-04   |   4   |\n",
      "|  15   |161300 |  19   | +1.6015e-04 | 1.53e+05 | 1.31e-07 | 0.00e+00 | 1.00e+00 |  3.20e-05   |   0   |\n",
      "|  16   |177430 |  25   | +3.2123e-05 | 1.53e+05 | 1.31e-07 | 0.00e+00 | 1.00e+00 |  3.20e-05   |   4   |\n",
      "|  17   |177430 |  25   | +3.2123e-05 | 7.66e+05 | 2.62e-08 | 0.00e+00 | 1.00e+00 |  6.40e-06   |   0   |\n",
      "|  18   |193560 |  36   | +6.4003e-06 | 7.66e+05 | 2.62e-08 | 0.00e+00 | 1.00e+00 |  6.40e-06   |   4   |\n",
      "|  19   |193560 |  36   | +6.4003e-06 | 3.83e+06 | 5.24e-09 | 0.00e+00 | 1.00e+00 |  1.28e-06   |   0   |\n",
      "|  20   |209690 |  50   | +1.2800e-06 | 3.83e+06 | 5.24e-09 | 0.00e+00 | 1.00e+00 |  1.28e-06   |   4   |\n",
      "|  21   |209690 |  50   | +1.2800e-06 | 1.91e+07 | 1.05e-09 | 0.00e+00 | 1.00e+00 |  2.56e-07   |   0   |\n",
      "|  22   |225820 |  66   | +2.5598e-07 | 1.91e+07 | 1.05e-09 | 0.00e+00 | 1.00e+00 |  2.56e-07   |   4   |\n",
      "|  23   |225820 |  66   | +2.5598e-07 | 9.57e+07 | 2.10e-10 | 0.00e+00 | 1.00e+00 |  5.12e-08   |   0   |\n",
      "|  24   |241950 |  89   | +5.1196e-08 | 9.57e+07 | 2.10e-10 | 0.00e+00 | 1.00e+00 |  5.12e-08   |   4   |\n",
      "|  25   |241950 |  89   | +5.1196e-08 | 4.79e+08 | 4.22e-11 | 0.00e+00 | 1.00e+00 |  1.02e-08   |   0   |\n",
      "\n",
      "`gtol` termination condition is satisfied.\n",
      "Number of iterations: 25, function evaluations: 241950, CG iterations: 89, optimality: 4.22e-11, constraint violation: 0.00e+00, execution time: 3.5e+02 s.\n"
     ]
    }
   ],
   "source": [
    "sol = myMinimizer.Optimization(L0=L0, maxiter=100)"
   ]
  },
  {
   "cell_type": "code",
   "execution_count": 9,
   "metadata": {},
   "outputs": [],
   "source": [
    "Laplacian = sol.x"
   ]
  },
  {
   "cell_type": "code",
   "execution_count": 10,
   "metadata": {},
   "outputs": [
    {
     "data": {
      "text/plain": [
       "array([[ 1.58162706, -0.27193459, -0.10418694, ..., -0.01297106,\n",
       "        -0.01623607, -0.01450065],\n",
       "       [-0.27196929,  1.57969429, -0.26976703, ..., -0.01268548,\n",
       "        -0.01556632, -0.01451765],\n",
       "       [-0.10418739, -0.2697845 ,  1.58101302, ..., -0.01237394,\n",
       "        -0.01488159, -0.01429582],\n",
       "       ...,\n",
       "       [-0.01308682, -0.01264466, -0.01231483, ...,  1.51658466,\n",
       "        -0.31138079, -0.31144413],\n",
       "       [-0.01623581, -0.01554696, -0.01468744, ..., -0.31122808,\n",
       "         1.51798148, -0.3109655 ],\n",
       "       [-0.01450065, -0.01436183, -0.0144154 , ..., -0.31160103,\n",
       "        -0.31112654,  1.51869206]])"
      ]
     },
     "execution_count": 10,
     "metadata": {},
     "output_type": "execute_result"
    }
   ],
   "source": [
    "Laplacian"
   ]
  },
  {
   "cell_type": "code",
   "execution_count": null,
   "metadata": {},
   "outputs": [],
   "source": []
  }
 ],
 "metadata": {
  "kernelspec": {
   "display_name": "Python [conda env:didacts]",
   "language": "python",
   "name": "conda-env-didacts-py"
  },
  "language_info": {
   "codemirror_mode": {
    "name": "ipython",
    "version": 3
   },
   "file_extension": ".py",
   "mimetype": "text/x-python",
   "name": "python",
   "nbconvert_exporter": "python",
   "pygments_lexer": "ipython3",
   "version": "3.8.5"
  }
 },
 "nbformat": 4,
 "nbformat_minor": 4
}
